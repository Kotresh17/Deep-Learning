{
 "cells": [
  {
   "cell_type": "code",
   "execution_count": 1,
   "metadata": {},
   "outputs": [],
   "source": [
    "#Importing Libraries"
   ]
  },
  {
   "cell_type": "code",
   "execution_count": 2,
   "metadata": {},
   "outputs": [],
   "source": [
    "import numpy as np\n",
    "import math"
   ]
  },
  {
   "cell_type": "code",
   "execution_count": 3,
   "metadata": {},
   "outputs": [],
   "source": [
    "#Sigmoid function"
   ]
  },
  {
   "cell_type": "code",
   "execution_count": 4,
   "metadata": {},
   "outputs": [],
   "source": [
    "def sigmoid(x):\n",
    "    return 1/(1+math.exp(-1))"
   ]
  },
  {
   "cell_type": "code",
   "execution_count": 5,
   "metadata": {},
   "outputs": [],
   "source": [
    "#Derivative of sigmoid function"
   ]
  },
  {
   "cell_type": "code",
   "execution_count": 6,
   "metadata": {},
   "outputs": [],
   "source": [
    "def derivative_sigmoid(y):\n",
    "    derivative = sigmoid(y)*(1-sigmoid(y))\n",
    "    return derivative"
   ]
  },
  {
   "cell_type": "code",
   "execution_count": 7,
   "metadata": {},
   "outputs": [
    {
     "name": "stdout",
     "output_type": "stream",
     "text": [
      "0.19661193324148185\n"
     ]
    }
   ],
   "source": [
    "print(derivative_sigmoid(1))"
   ]
  },
  {
   "cell_type": "code",
   "execution_count": 8,
   "metadata": {},
   "outputs": [],
   "source": [
    "#Initializing Input Variables(X) and output variable(Y)"
   ]
  },
  {
   "cell_type": "code",
   "execution_count": 9,
   "metadata": {},
   "outputs": [],
   "source": [
    "X=np.array([[1,0,1,0],[1,0,1,1],[0,1,0,1]])\n",
    "Y=np.array([[1],[1],[0]])"
   ]
  },
  {
   "cell_type": "code",
   "execution_count": 10,
   "metadata": {},
   "outputs": [],
   "source": [
    "#Initializing Weights and biases with random values"
   ]
  },
  {
   "cell_type": "code",
   "execution_count": 11,
   "metadata": {},
   "outputs": [],
   "source": [
    "Wh=np.random.rand(4,3)\n",
    "wout=np.random.rand(3,1)\n",
    "bh=np.random.rand(1,3)\n",
    "bout=np.random.rand(1,1)"
   ]
  },
  {
   "cell_type": "code",
   "execution_count": 12,
   "metadata": {},
   "outputs": [],
   "source": [
    "#calculate hidden layer input"
   ]
  },
  {
   "cell_type": "code",
   "execution_count": 13,
   "metadata": {},
   "outputs": [
    {
     "name": "stdout",
     "output_type": "stream",
     "text": [
      "[[1.0754419  1.43227908 1.30226096]\n",
      " [1.61345261 1.81562111 1.72913451]\n",
      " [1.54470524 1.41220409 1.79992098]]\n"
     ]
    }
   ],
   "source": [
    "hidden_layer_input = np.dot(X,Wh)+bh\n",
    "print(hidden_layer_input)"
   ]
  },
  {
   "cell_type": "code",
   "execution_count": 14,
   "metadata": {},
   "outputs": [],
   "source": [
    "#performing nonlinear activation on hidden linear input(using sigmoid function)"
   ]
  },
  {
   "cell_type": "code",
   "execution_count": 15,
   "metadata": {},
   "outputs": [
    {
     "name": "stdout",
     "output_type": "stream",
     "text": [
      "[[0.73105858 0.73105858 0.73105858]\n",
      " [0.73105858 0.73105858 0.73105858]\n",
      " [0.73105858 0.73105858 0.73105858]]\n"
     ]
    }
   ],
   "source": [
    "hidden_layer_activation=np.vectorize(sigmoid)(hidden_layer_input)\n",
    "print(hidden_layer_activation)"
   ]
  },
  {
   "cell_type": "code",
   "execution_count": 16,
   "metadata": {},
   "outputs": [],
   "source": [
    "#perform linear and nonlinear transformation of hidden layer at output layer"
   ]
  },
  {
   "cell_type": "code",
   "execution_count": 17,
   "metadata": {},
   "outputs": [
    {
     "name": "stdout",
     "output_type": "stream",
     "text": [
      "[[1.32044819]\n",
      " [1.32044819]\n",
      " [1.32044819]]\n",
      "[[0.73105858]\n",
      " [0.73105858]\n",
      " [0.73105858]]\n"
     ]
    }
   ],
   "source": [
    "output_layer_input = np.dot(hidden_layer_activation,wout)+bout\n",
    "output = np.vectorize(sigmoid)(output_layer_input)\n",
    "print(output_layer_input)\n",
    "print(output)"
   ]
  },
  {
   "cell_type": "code",
   "execution_count": null,
   "metadata": {},
   "outputs": [],
   "source": [
    "#calculate the gradient of error at output layer\n"
   ]
  },
  {
   "cell_type": "code",
   "execution_count": 29,
   "metadata": {},
   "outputs": [
    {
     "name": "stdout",
     "output_type": "stream",
     "text": [
      "[[ 0.26894142]\n",
      " [ 0.26894142]\n",
      " [-0.73105858]]\n"
     ]
    }
   ],
   "source": [
    "Error = Y-output\n",
    "print(Error)"
   ]
  },
  {
   "cell_type": "code",
   "execution_count": null,
   "metadata": {},
   "outputs": [],
   "source": [
    "#compute slope at output and hidden layer"
   ]
  },
  {
   "cell_type": "code",
   "execution_count": 18,
   "metadata": {},
   "outputs": [
    {
     "name": "stdout",
     "output_type": "stream",
     "text": [
      "[[0.19661193]\n",
      " [0.19661193]\n",
      " [0.19661193]]\n",
      "[[0.19661193 0.19661193 0.19661193]\n",
      " [0.19661193 0.19661193 0.19661193]\n",
      " [0.19661193 0.19661193 0.19661193]]\n"
     ]
    }
   ],
   "source": [
    "slope_output_layer = np.vectorize(derivative_sigmoid)(output)\n",
    "slope_hidden_layer= np.vectorize(derivative_sigmoid)(hidden_layer_activation)\n",
    "print(slope_output_layer)\n",
    "print(slope_hidden_layer)"
   ]
  },
  {
   "cell_type": "code",
   "execution_count": null,
   "metadata": {},
   "outputs": [],
   "source": [
    "#compute delta at output layer"
   ]
  },
  {
   "cell_type": "code",
   "execution_count": 42,
   "metadata": {},
   "outputs": [
    {
     "name": "stdout",
     "output_type": "stream",
     "text": [
      "[[ 0.00528771]\n",
      " [ 0.00528771]\n",
      " [-0.01437348]]\n"
     ]
    }
   ],
   "source": [
    "lr=0.1\n",
    "d_output = Error*slope_output_layer*lr\n",
    "print(d_output)"
   ]
  },
  {
   "cell_type": "code",
   "execution_count": null,
   "metadata": {},
   "outputs": [],
   "source": [
    "#calculate Error at hidden layer"
   ]
  },
  {
   "cell_type": "code",
   "execution_count": 48,
   "metadata": {},
   "outputs": [
    {
     "name": "stdout",
     "output_type": "stream",
     "text": [
      "[[ 0.00480439  0.00170291  0.00042824]\n",
      " [ 0.00480439  0.00170291  0.00042824]\n",
      " [-0.0130597  -0.00462899 -0.00116408]]\n"
     ]
    }
   ],
   "source": [
    "wout_transpose = np.transpose(wout)\n",
    "Error_hidden_layer=np.dot(d_output, wout_transpose)\n",
    "print(Error_hidden_layer)"
   ]
  },
  {
   "cell_type": "code",
   "execution_count": null,
   "metadata": {},
   "outputs": [],
   "source": [
    "#compute delta hidden layer"
   ]
  },
  {
   "cell_type": "code",
   "execution_count": 50,
   "metadata": {},
   "outputs": [
    {
     "name": "stdout",
     "output_type": "stream",
     "text": [
      "[[ 9.44601203e-04  3.34812353e-04  8.41969641e-05]\n",
      " [ 9.44601203e-04  3.34812353e-04  8.41969641e-05]\n",
      " [-2.56769229e-03 -9.10114334e-04 -2.28871077e-04]]\n"
     ]
    }
   ],
   "source": [
    "d_hidden_layer = Error_hidden_layer * slope_hidden_layer\n",
    "print(d_hidden_layer)"
   ]
  },
  {
   "cell_type": "code",
   "execution_count": null,
   "metadata": {},
   "outputs": [],
   "source": [
    "#update weight at both output and hidden layer"
   ]
  },
  {
   "cell_type": "code",
   "execution_count": 57,
   "metadata": {},
   "outputs": [
    {
     "name": "stdout",
     "output_type": "stream",
     "text": [
      "[[0.90720818]\n",
      " [0.32066223]\n",
      " [0.07959938]]\n",
      "[[0.58500633 0.48046558 0.45942822]\n",
      " [0.03915138 0.68546424 0.15495065]\n",
      " [0.60235979 0.0244198  0.09786535]\n",
      " [0.22234754 0.81890592 0.42332969]]\n"
     ]
    }
   ],
   "source": [
    "hidden_layer_activation_transpose=np.transpose(hidden_layer_activation)\n",
    "wout=wout+np.dot(hidden_layer_activation_transpose, d_output) *lr \n",
    "print(wout)\n",
    "X_transpose = np.transpose(X)\n",
    "Wh = Wh + np.dot(X_transpose, d_hidden_layer) *lr \n",
    "print(Wh)"
   ]
  },
  {
   "cell_type": "code",
   "execution_count": null,
   "metadata": {},
   "outputs": [],
   "source": [
    "#update biases at both output and hidden layer"
   ]
  },
  {
   "cell_type": "code",
   "execution_count": 61,
   "metadata": {},
   "outputs": [
    {
     "name": "stdout",
     "output_type": "stream",
     "text": [
      "[[0.35366888 0.55228632 0.11738816]] [[0.68777299]]\n"
     ]
    }
   ],
   "source": [
    "bh = bh + np.sum(d_hidden_layer, axis=0)*lr\n",
    "bout=bout+ np.sum(d_output, axis=0)*lr\n",
    "print(bh,bout)"
   ]
  }
 ],
 "metadata": {
  "kernelspec": {
   "display_name": "Python 3",
   "language": "python",
   "name": "python3"
  },
  "language_info": {
   "codemirror_mode": {
    "name": "ipython",
    "version": 3
   },
   "file_extension": ".py",
   "mimetype": "text/x-python",
   "name": "python",
   "nbconvert_exporter": "python",
   "pygments_lexer": "ipython3",
   "version": "3.6.4"
  }
 },
 "nbformat": 4,
 "nbformat_minor": 2
}
