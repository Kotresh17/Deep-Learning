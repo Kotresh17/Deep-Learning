{
  "nbformat": 4,
  "nbformat_minor": 0,
  "metadata": {
    "colab": {
      "name": "pytorch_implementaion_cifar_transfer_learning_VGG16.ipynb",
      "version": "0.3.2",
      "provenance": [],
      "collapsed_sections": []
    },
    "kernelspec": {
      "name": "python3",
      "display_name": "Python 3"
    },
    "accelerator": "GPU"
  },
  "cells": [
    {
      "metadata": {
        "id": "-1S9ZWljI6zB",
        "colab_type": "code",
        "colab": {}
      },
      "cell_type": "code",
      "source": [
        "!pip3 install http://download.pytorch.org/whl/cu80/torch-0.3.0.post4-cp36-cp36m-linux_x86_64.whl \n"
      ],
      "execution_count": 0,
      "outputs": []
    },
    {
      "metadata": {
        "id": "LlbqFJLNJNCe",
        "colab_type": "code",
        "colab": {}
      },
      "cell_type": "code",
      "source": [
        "!pip3 install torchvision"
      ],
      "execution_count": 0,
      "outputs": []
    },
    {
      "metadata": {
        "id": "TxjHPluzJe09",
        "colab_type": "code",
        "colab": {}
      },
      "cell_type": "code",
      "source": [
        "import torch\n",
        "import torchvision\n",
        "from __future__ import print_function\n",
        "import torch\n",
        "import torch.nn as nn\n",
        "import torch.optim as optim\n",
        "from torch.autograd import Variable\n",
        "import torchvision\n",
        "import torchvision.transforms as transforms\n",
        "from torchvision import datasets, models\n",
        "import matplotlib.pyplot as plt \n",
        "import numpy as np\n",
        "import os, time\n",
        "import copy"
      ],
      "execution_count": 0,
      "outputs": []
    },
    {
      "metadata": {
        "id": "lCIJ0pItJlSw",
        "colab_type": "code",
        "colab": {}
      },
      "cell_type": "code",
      "source": [
        "transform =torchvision.transforms.Compose([torchvision.transforms.Resize((224,224)),torchvision.transforms.ToTensor()])"
      ],
      "execution_count": 0,
      "outputs": []
    },
    {
      "metadata": {
        "id": "PoKtHklYJyRa",
        "colab_type": "code",
        "colab": {
          "base_uri": "https://localhost:8080/",
          "height": 34
        },
        "outputId": "129f5def-4dec-4042-caca-d2c717ba5156"
      },
      "cell_type": "code",
      "source": [
        "train_set = torchvision.datasets.CIFAR10(root = './data', train =True, download = True, transform =transform)"
      ],
      "execution_count": 0,
      "outputs": [
        {
          "output_type": "stream",
          "text": [
            "Files already downloaded and verified\n"
          ],
          "name": "stdout"
        }
      ]
    },
    {
      "metadata": {
        "id": "iV35kRFFJ0zz",
        "colab_type": "code",
        "colab": {}
      },
      "cell_type": "code",
      "source": [
        "train_loader = torch.utils.data.DataLoader(train_set,batch_size=32, shuffle = True)"
      ],
      "execution_count": 0,
      "outputs": []
    },
    {
      "metadata": {
        "id": "ISluvi6BJ6jd",
        "colab_type": "code",
        "colab": {
          "base_uri": "https://localhost:8080/",
          "height": 34
        },
        "outputId": "be225346-3df5-4451-8d6a-90d6dab998a8"
      },
      "cell_type": "code",
      "source": [
        "test_set = torchvision.datasets.CIFAR10(root = './data', train = False, download = True, transform=transform)"
      ],
      "execution_count": 0,
      "outputs": [
        {
          "output_type": "stream",
          "text": [
            "Files already downloaded and verified\n"
          ],
          "name": "stdout"
        }
      ]
    },
    {
      "metadata": {
        "id": "Xugbs3i_J7lb",
        "colab_type": "code",
        "colab": {}
      },
      "cell_type": "code",
      "source": [
        "test_loader = torch.utils.data.DataLoader(test_set, batch_size = 32, shuffle=True)"
      ],
      "execution_count": 0,
      "outputs": []
    },
    {
      "metadata": {
        "id": "xR3wdXNwJ-iP",
        "colab_type": "code",
        "colab": {}
      },
      "cell_type": "code",
      "source": [
        "classes = ['plane','car','bird','cat','deer','dog','frog','horse','ship','truck']"
      ],
      "execution_count": 0,
      "outputs": []
    },
    {
      "metadata": {
        "id": "Bm8c4OUYKB9_",
        "colab_type": "code",
        "colab": {
          "base_uri": "https://localhost:8080/",
          "height": 945
        },
        "outputId": "2b0f033e-b940-4cd4-e38a-9d099fc15b8c"
      },
      "cell_type": "code",
      "source": [
        "img, label = next(iter(train_loader))\n",
        "plt.imshow(img[0].permute(1,2,0))\n",
        "print(label)"
      ],
      "execution_count": 0,
      "outputs": [
        {
          "output_type": "stream",
          "text": [
            "\n",
            " 6\n",
            " 4\n",
            " 0\n",
            " 1\n",
            " 5\n",
            " 9\n",
            " 7\n",
            " 5\n",
            " 3\n",
            " 5\n",
            " 4\n",
            " 8\n",
            " 7\n",
            " 6\n",
            " 0\n",
            " 8\n",
            " 4\n",
            " 7\n",
            " 3\n",
            " 3\n",
            " 3\n",
            " 3\n",
            " 3\n",
            " 7\n",
            " 0\n",
            " 3\n",
            " 7\n",
            " 7\n",
            " 4\n",
            " 1\n",
            " 9\n",
            " 4\n",
            "[torch.LongTensor of size 32]\n",
            "\n"
          ],
          "name": "stdout"
        },
        {
          "output_type": "display_data",
          "data": {
            "image/png": "[encoded data removed]",
            "text/plain": [
              "<matplotlib.figure.Figure at 0x7fc127f30550>"
            ]
          },
          "metadata": {
            "tags": []
          }
        }
      ]
    },
    {
      "metadata": {
        "id": "NwHdL7DcKJco",
        "colab_type": "code",
        "colab": {
          "base_uri": "https://localhost:8080/",
          "height": 986
        },
        "outputId": "b6a0dc8f-3a90-4ac8-ef7b-3fe9a87b410e"
      },
      "cell_type": "code",
      "source": [
        "vgg16 = models.vgg16_bn()\n",
        "print(vgg16)"
      ],
      "execution_count": 0,
      "outputs": [
        {
          "output_type": "stream",
          "text": [
            "VGG(\n",
            "  (features): Sequential(\n",
            "    (0): Conv2d (3, 64, kernel_size=(3, 3), stride=(1, 1), padding=(1, 1))\n",
            "    (1): BatchNorm2d(64, eps=1e-05, momentum=0.1, affine=True)\n",
            "    (2): ReLU(inplace)\n",
            "    (3): Conv2d (64, 64, kernel_size=(3, 3), stride=(1, 1), padding=(1, 1))\n",
            "    (4): BatchNorm2d(64, eps=1e-05, momentum=0.1, affine=True)\n",
            "    (5): ReLU(inplace)\n",
            "    (6): MaxPool2d(kernel_size=(2, 2), stride=(2, 2), dilation=(1, 1))\n",
            "    (7): Conv2d (64, 128, kernel_size=(3, 3), stride=(1, 1), padding=(1, 1))\n",
            "    (8): BatchNorm2d(128, eps=1e-05, momentum=0.1, affine=True)\n",
            "    (9): ReLU(inplace)\n",
            "    (10): Conv2d (128, 128, kernel_size=(3, 3), stride=(1, 1), padding=(1, 1))\n",
            "    (11): BatchNorm2d(128, eps=1e-05, momentum=0.1, affine=True)\n",
            "    (12): ReLU(inplace)\n",
            "    (13): MaxPool2d(kernel_size=(2, 2), stride=(2, 2), dilation=(1, 1))\n",
            "    (14): Conv2d (128, 256, kernel_size=(3, 3), stride=(1, 1), padding=(1, 1))\n",
            "    (15): BatchNorm2d(256, eps=1e-05, momentum=0.1, affine=True)\n",
            "    (16): ReLU(inplace)\n",
            "    (17): Conv2d (256, 256, kernel_size=(3, 3), stride=(1, 1), padding=(1, 1))\n",
            "    (18): BatchNorm2d(256, eps=1e-05, momentum=0.1, affine=True)\n",
            "    (19): ReLU(inplace)\n",
            "    (20): Conv2d (256, 256, kernel_size=(3, 3), stride=(1, 1), padding=(1, 1))\n",
            "    (21): BatchNorm2d(256, eps=1e-05, momentum=0.1, affine=True)\n",
            "    (22): ReLU(inplace)\n",
            "    (23): MaxPool2d(kernel_size=(2, 2), stride=(2, 2), dilation=(1, 1))\n",
            "    (24): Conv2d (256, 512, kernel_size=(3, 3), stride=(1, 1), padding=(1, 1))\n",
            "    (25): BatchNorm2d(512, eps=1e-05, momentum=0.1, affine=True)\n",
            "    (26): ReLU(inplace)\n",
            "    (27): Conv2d (512, 512, kernel_size=(3, 3), stride=(1, 1), padding=(1, 1))\n",
            "    (28): BatchNorm2d(512, eps=1e-05, momentum=0.1, affine=True)\n",
            "    (29): ReLU(inplace)\n",
            "    (30): Conv2d (512, 512, kernel_size=(3, 3), stride=(1, 1), padding=(1, 1))\n",
            "    (31): BatchNorm2d(512, eps=1e-05, momentum=0.1, affine=True)\n",
            "    (32): ReLU(inplace)\n",
            "    (33): MaxPool2d(kernel_size=(2, 2), stride=(2, 2), dilation=(1, 1))\n",
            "    (34): Conv2d (512, 512, kernel_size=(3, 3), stride=(1, 1), padding=(1, 1))\n",
            "    (35): BatchNorm2d(512, eps=1e-05, momentum=0.1, affine=True)\n",
            "    (36): ReLU(inplace)\n",
            "    (37): Conv2d (512, 512, kernel_size=(3, 3), stride=(1, 1), padding=(1, 1))\n",
            "    (38): BatchNorm2d(512, eps=1e-05, momentum=0.1, affine=True)\n",
            "    (39): ReLU(inplace)\n",
            "    (40): Conv2d (512, 512, kernel_size=(3, 3), stride=(1, 1), padding=(1, 1))\n",
            "    (41): BatchNorm2d(512, eps=1e-05, momentum=0.1, affine=True)\n",
            "    (42): ReLU(inplace)\n",
            "    (43): MaxPool2d(kernel_size=(2, 2), stride=(2, 2), dilation=(1, 1))\n",
            "  )\n",
            "  (classifier): Sequential(\n",
            "    (0): Linear(in_features=25088, out_features=4096)\n",
            "    (1): ReLU(inplace)\n",
            "    (2): Dropout(p=0.5)\n",
            "    (3): Linear(in_features=4096, out_features=4096)\n",
            "    (4): ReLU(inplace)\n",
            "    (5): Dropout(p=0.5)\n",
            "    (6): Linear(in_features=4096, out_features=1000)\n",
            "  )\n",
            ")\n"
          ],
          "name": "stdout"
        }
      ]
    },
    {
      "metadata": {
        "id": "Y72n_WuqKXqv",
        "colab_type": "code",
        "colab": {
          "base_uri": "https://localhost:8080/",
          "height": 34
        },
        "outputId": "10d877a7-b0de-4f33-a1c6-e472e924bb28"
      },
      "cell_type": "code",
      "source": [
        "for param in vgg16.features.parameters():\n",
        "    param.require_grad = False\n",
        "num_features = vgg16.classifier[6].in_features\n",
        "print(num_features)\n",
        "features = list(vgg16.classifier.children())[:-1]\n",
        "num_classes=10"
      ],
      "execution_count": 0,
      "outputs": [
        {
          "output_type": "stream",
          "text": [
            "4096\n"
          ],
          "name": "stdout"
        }
      ]
    },
    {
      "metadata": {
        "id": "G-1KWtZ7KeMr",
        "colab_type": "code",
        "colab": {
          "base_uri": "https://localhost:8080/",
          "height": 986
        },
        "outputId": "446b3f54-4819-4230-b55f-028301ec3b0c"
      },
      "cell_type": "code",
      "source": [
        "features.extend(([nn.Linear(num_features, num_classes)]))\n",
        "vgg16.classifier = nn.Sequential(*features)\n",
        "print(vgg16)"
      ],
      "execution_count": 0,
      "outputs": [
        {
          "output_type": "stream",
          "text": [
            "VGG(\n",
            "  (features): Sequential(\n",
            "    (0): Conv2d (3, 64, kernel_size=(3, 3), stride=(1, 1), padding=(1, 1))\n",
            "    (1): BatchNorm2d(64, eps=1e-05, momentum=0.1, affine=True)\n",
            "    (2): ReLU(inplace)\n",
            "    (3): Conv2d (64, 64, kernel_size=(3, 3), stride=(1, 1), padding=(1, 1))\n",
            "    (4): BatchNorm2d(64, eps=1e-05, momentum=0.1, affine=True)\n",
            "    (5): ReLU(inplace)\n",
            "    (6): MaxPool2d(kernel_size=(2, 2), stride=(2, 2), dilation=(1, 1))\n",
            "    (7): Conv2d (64, 128, kernel_size=(3, 3), stride=(1, 1), padding=(1, 1))\n",
            "    (8): BatchNorm2d(128, eps=1e-05, momentum=0.1, affine=True)\n",
            "    (9): ReLU(inplace)\n",
            "    (10): Conv2d (128, 128, kernel_size=(3, 3), stride=(1, 1), padding=(1, 1))\n",
            "    (11): BatchNorm2d(128, eps=1e-05, momentum=0.1, affine=True)\n",
            "    (12): ReLU(inplace)\n",
            "    (13): MaxPool2d(kernel_size=(2, 2), stride=(2, 2), dilation=(1, 1))\n",
            "    (14): Conv2d (128, 256, kernel_size=(3, 3), stride=(1, 1), padding=(1, 1))\n",
            "    (15): BatchNorm2d(256, eps=1e-05, momentum=0.1, affine=True)\n",
            "    (16): ReLU(inplace)\n",
            "    (17): Conv2d (256, 256, kernel_size=(3, 3), stride=(1, 1), padding=(1, 1))\n",
            "    (18): BatchNorm2d(256, eps=1e-05, momentum=0.1, affine=True)\n",
            "    (19): ReLU(inplace)\n",
            "    (20): Conv2d (256, 256, kernel_size=(3, 3), stride=(1, 1), padding=(1, 1))\n",
            "    (21): BatchNorm2d(256, eps=1e-05, momentum=0.1, affine=True)\n",
            "    (22): ReLU(inplace)\n",
            "    (23): MaxPool2d(kernel_size=(2, 2), stride=(2, 2), dilation=(1, 1))\n",
            "    (24): Conv2d (256, 512, kernel_size=(3, 3), stride=(1, 1), padding=(1, 1))\n",
            "    (25): BatchNorm2d(512, eps=1e-05, momentum=0.1, affine=True)\n",
            "    (26): ReLU(inplace)\n",
            "    (27): Conv2d (512, 512, kernel_size=(3, 3), stride=(1, 1), padding=(1, 1))\n",
            "    (28): BatchNorm2d(512, eps=1e-05, momentum=0.1, affine=True)\n",
            "    (29): ReLU(inplace)\n",
            "    (30): Conv2d (512, 512, kernel_size=(3, 3), stride=(1, 1), padding=(1, 1))\n",
            "    (31): BatchNorm2d(512, eps=1e-05, momentum=0.1, affine=True)\n",
            "    (32): ReLU(inplace)\n",
            "    (33): MaxPool2d(kernel_size=(2, 2), stride=(2, 2), dilation=(1, 1))\n",
            "    (34): Conv2d (512, 512, kernel_size=(3, 3), stride=(1, 1), padding=(1, 1))\n",
            "    (35): BatchNorm2d(512, eps=1e-05, momentum=0.1, affine=True)\n",
            "    (36): ReLU(inplace)\n",
            "    (37): Conv2d (512, 512, kernel_size=(3, 3), stride=(1, 1), padding=(1, 1))\n",
            "    (38): BatchNorm2d(512, eps=1e-05, momentum=0.1, affine=True)\n",
            "    (39): ReLU(inplace)\n",
            "    (40): Conv2d (512, 512, kernel_size=(3, 3), stride=(1, 1), padding=(1, 1))\n",
            "    (41): BatchNorm2d(512, eps=1e-05, momentum=0.1, affine=True)\n",
            "    (42): ReLU(inplace)\n",
            "    (43): MaxPool2d(kernel_size=(2, 2), stride=(2, 2), dilation=(1, 1))\n",
            "  )\n",
            "  (classifier): Sequential(\n",
            "    (0): Linear(in_features=25088, out_features=4096)\n",
            "    (1): ReLU(inplace)\n",
            "    (2): Dropout(p=0.5)\n",
            "    (3): Linear(in_features=4096, out_features=4096)\n",
            "    (4): ReLU(inplace)\n",
            "    (5): Dropout(p=0.5)\n",
            "    (6): Linear(in_features=4096, out_features=10)\n",
            "  )\n",
            ")\n"
          ],
          "name": "stdout"
        }
      ]
    },
    {
      "metadata": {
        "id": "kNLWfBCjL1Pa",
        "colab_type": "code",
        "colab": {
          "base_uri": "https://localhost:8080/",
          "height": 34
        },
        "outputId": "b63b7607-c7fe-4256-cfef-0c060fe87571"
      },
      "cell_type": "code",
      "source": [
        "plt.ion()  \n",
        "\n",
        "use_gpu = torch.cuda.is_available()\n",
        "if use_gpu:\n",
        "    print(\"Using CUDA\")"
      ],
      "execution_count": 0,
      "outputs": [
        {
          "output_type": "stream",
          "text": [
            "Using CUDA\n"
          ],
          "name": "stdout"
        }
      ]
    },
    {
      "metadata": {
        "id": "PHzacUGoKiM7",
        "colab_type": "code",
        "colab": {}
      },
      "cell_type": "code",
      "source": [
        "if use_gpu:\n",
        "    vgg16.cuda()\n",
        "criterion = nn.CrossEntropyLoss()\n",
        "optimizer = optim.SGD(vgg16.parameters(), lr=0.01, momentum=0.9)"
      ],
      "execution_count": 0,
      "outputs": []
    },
    {
      "metadata": {
        "id": "Iy9Zde8MKmHu",
        "colab_type": "code",
        "colab": {}
      },
      "cell_type": "code",
      "source": [
        "def eval_model(vgg16, criterion):\n",
        "    since = time.time()\n",
        "    test_loss = 0\n",
        "    test_acc = 0\n",
        "    \n",
        "    \n",
        "    print(\"evaluating model\")\n",
        "    print(\"-\"*10)\n",
        "    \n",
        "    for i, data in enumerate(test_loader):\n",
        "        vgg16.train(False)\n",
        "        vgg16.eval()\n",
        "        inputs, label = data\n",
        "        dataset_sizes = len(test_set)\n",
        "        \n",
        "        if use_gpu:\n",
        "            inputs, label = Variable(inputs.cuda(), volatile=True), Variable(label.cuda(), volatile=True)\n",
        "        else:\n",
        "            inputs, label = Variable(inputs, volatile =True), Variable(label, volatile=True)\n",
        "        \n",
        "        outputs=vgg16(inputs)\n",
        "        \n",
        "        _ , preds = torch.max(outputs.data, 1)\n",
        "        loss = criterion(outputs, label)\n",
        "        test_loss += loss.data[0]\n",
        "        test_acc += torch.sum(preds==label.data)\n",
        "        \n",
        "        del inputs, label, outputs, preds\n",
        "        torch.cuda.empty_cache()\n",
        "        \n",
        "    avg_loss = test_loss / dataset_sizes\n",
        "    avg_acc = test_acc / dataset_sizes\n",
        "        \n",
        "    elapsed_time = time.time()-since\n",
        "    print(\"test_loss {:.4f}\".format(avg_loss))\n",
        "    print(\"test_acc {:.4f}\".format(avg_acc))"
      ],
      "execution_count": 0,
      "outputs": []
    },
    {
      "metadata": {
        "id": "7caQ2tMPKpql",
        "colab_type": "code",
        "colab": {
          "base_uri": "https://localhost:8080/",
          "height": 85
        },
        "outputId": "8ddbaaef-c856-4883-efa8-0c266bc717be"
      },
      "cell_type": "code",
      "source": [
        "model = eval_model(vgg16, criterion) "
      ],
      "execution_count": 0,
      "outputs": [
        {
          "output_type": "stream",
          "text": [
            "evaluating model\n",
            "----------\n",
            "test_loss 0.0721\n",
            "test_acc 0.1020\n"
          ],
          "name": "stdout"
        }
      ]
    },
    {
      "metadata": {
        "id": "XkZW_zv5W68d",
        "colab_type": "code",
        "colab": {}
      },
      "cell_type": "code",
      "source": [
        "img, label = next(iter(test_loader))"
      ],
      "execution_count": 0,
      "outputs": []
    },
    {
      "metadata": {
        "id": "hqa9CTaMLHfg",
        "colab_type": "code",
        "colab": {}
      },
      "cell_type": "code",
      "source": [
        "def train_model(vgg16, criterion, optimizer, no_of_epochs=5):\n",
        "    since =time.time()\n",
        "    best_model_wts = copy.deepcopy(vgg16.state_dict())\n",
        "    best_acc = 0\n",
        "    \n",
        "    avg_loss = 0 \n",
        "    avg_acc = 0\n",
        "    avg_loss_val = 0\n",
        "    avg_acc_val = 0\n",
        "    \n",
        "    \n",
        "    train_batches = len(train_loader)\n",
        "    valid_batches = len(test_loader)\n",
        "    test_batches = len(test_loader)\n",
        "    \n",
        "    vgg16.train(True)\n",
        "    \n",
        "    for i, data in enumerate(train_loader):\n",
        "        if(i % 100 == 0):\n",
        "            print(\"\\r Training batch {}/{}\".format(i, train_batches/2), end ='', flush = True)\n",
        "            \n",
        "            loss_train = 0\n",
        "            loss_val = 0\n",
        "            acc_train = 0\n",
        "            acc_val = 0\n",
        "            #half training data \n",
        "            if i>= train_batches/2:\n",
        "                break\n",
        "                \n",
        "            inputs, labels = data\n",
        "            if use_gpu:\n",
        "                inputs, labels = Variable(inputs.cuda()), Variable(labels.cuda())\n",
        "                \n",
        "            else:\n",
        "                inputs, labels = Variable(inputs), Variable(labels)\n",
        "            \n",
        "            optimizer.zero_grad()\n",
        "            outputs=vgg16(inputs)\n",
        "            \n",
        "            _ , preds = torch.max(outputs.data, 1)\n",
        "            loss = criterion(outputs, labels)\n",
        "            \n",
        "            loss.backward()\n",
        "            optimizer.step()\n",
        "            \n",
        "            loss_train += loss.data[0]\n",
        "            acc_train += torch.sum(preds == labels.data)\n",
        "            \n",
        "            avg_loss = avg_loss*2/train_batches\n",
        "            avg_acc = avg_acc*2/train_batches\n",
        "            \n",
        "            vgg16.train(False)\n",
        "            vgg16.eval()\n",
        "            \n",
        "            for i, data in enumerate(test_loader):\n",
        "                if(i % 100 == 0):\n",
        "                    print(\"validation batch {}/{}\".format(i, valid_batches), end = '', flush=True)\n",
        "                \n",
        "                inputs, labels = data\n",
        "                \n",
        "                if use_gpu:\n",
        "                    inputs, labels = Variable(inputs.cuda()), Variable(labels.cuda())\n",
        "                \n",
        "                else:\n",
        "                    inputs, labels = Variable(inputs), Variable(labels)\n",
        "                \n",
        "                \n",
        "                optimizer.zero_grad()\n",
        "                \n",
        "                outputs = vgg16(inputs)\n",
        "                \n",
        "                _, preds = torch.max(outputs.data, 1)\n",
        "                loss = criterion(outputs, labels)\n",
        "                \n",
        "                loss_val +=loss.data[0]\n",
        "                acc_val +=torch.sum(preds==labels.data)\n",
        "                \n",
        "                avg_loss_val = loss_val /valid_batches\n",
        "                avg_acc_val = acc_val / valid_batches\n",
        "                \n",
        "                print()\n",
        "                print(\"Epoch {} result\".format(epoch))\n",
        "                print(\"train loss: {:.4f}\".format(avg_loss))\n",
        "                print(\"train acc: {:.4f}\".format(avg_acc))\n",
        "                print(\"valid loss: {:.4f}\".format(avg_loss_val))\n",
        "                print(\"valid acc: {:.4f}\".format(avg_acc_val))\n",
        "                \n",
        "                \n",
        "                if(avg_loss_val >= best_acc):\n",
        "                    best_acc = avg_loss_val\n",
        "                    best_model_wts = copy.deepcopy(vgg16.state_dict())\n",
        "                \n",
        "                elapsed_time = time.time() - since\n",
        "                \n",
        "                print(\"Training completed in {:.0f} minutes, {:.0f} seconds\".format(elapsed_time//60, elapsed_time%60))\n",
        "                \n",
        "                print(\"best acc: {:.4f}\".format(best_acc))\n",
        "                \n",
        "                vgg16.load_state_dict(best_model_wts)\n",
        "                return vgg16\n",
        "    "
      ],
      "execution_count": 0,
      "outputs": []
    },
    {
      "metadata": {
        "id": "ac2RFNWdLIxT",
        "colab_type": "code",
        "colab": {}
      },
      "cell_type": "code",
      "source": [
        "train_model(vgg16, criterion, optimizer, no_of_epochs=5)"
      ],
      "execution_count": 0,
      "outputs": []
    },
    {
      "metadata": {
        "id": "VynEnz76XfCU",
        "colab_type": "code",
        "colab": {}
      },
      "cell_type": "code",
      "source": [
        ""
      ],
      "execution_count": 0,
      "outputs": []
    }
  ]
}