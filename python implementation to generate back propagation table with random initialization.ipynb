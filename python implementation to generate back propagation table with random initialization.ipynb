{
 "cells": [
  {
   "cell_type": "code",
   "execution_count": 1,
   "metadata": {},
   "outputs": [],
   "source": [
    "#Importing Libraries"
   ]
  },
  {
   "cell_type": "code",
   "execution_count": 2,
   "metadata": {},
   "outputs": [],
   "source": [
    "import numpy as np\n",
    "import math"
   ]
  },
  {
   "cell_type": "code",
   "execution_count": 3,
   "metadata": {},
   "outputs": [],
   "source": [
    "#Sigmoid function"
   ]
  },
  {
   "cell_type": "code",
   "execution_count": 4,
   "metadata": {},
   "outputs": [],
   "source": [
    "#Derivative of sigmoid function"
   ]
  },
  {
   "cell_type": "code",
   "execution_count": 5,
   "metadata": {},
   "outputs": [],
   "source": [
    "def sigmoid(x):\n",
    "    return 1/(1+math.exp(-x))"
   ]
  },
  {
   "cell_type": "code",
   "execution_count": 6,
   "metadata": {},
   "outputs": [
    {
     "name": "stdout",
     "output_type": "stream",
     "text": [
      "0.837670961661056\n"
     ]
    }
   ],
   "source": [
    "print(sigmoid(1.641))"
   ]
  },
  {
   "cell_type": "code",
   "execution_count": 7,
   "metadata": {},
   "outputs": [],
   "source": [
    "def derivative_sigmoid(y):\n",
    "    derivative = sigmoid(y)*(1-sigmoid(y))\n",
    "    return derivative"
   ]
  },
  {
   "cell_type": "code",
   "execution_count": 8,
   "metadata": {},
   "outputs": [
    {
     "name": "stdout",
     "output_type": "stream",
     "text": [
      "0.19661193324148185\n"
     ]
    }
   ],
   "source": [
    "print(derivative_sigmoid(1))"
   ]
  },
  {
   "cell_type": "code",
   "execution_count": 9,
   "metadata": {},
   "outputs": [],
   "source": [
    "#Initializing Input Variables(X) and output variable(Y)"
   ]
  },
  {
   "cell_type": "code",
   "execution_count": 10,
   "metadata": {},
   "outputs": [],
   "source": [
    "X=np.array([[1,0,1,0],[1,0,1,1],[0,1,0,1]])\n",
    "Y=np.array([[1],[1],[0]])"
   ]
  },
  {
   "cell_type": "code",
   "execution_count": 11,
   "metadata": {},
   "outputs": [],
   "source": [
    "#Initializing Weights and biases with random values"
   ]
  },
  {
   "cell_type": "code",
   "execution_count": 12,
   "metadata": {},
   "outputs": [],
   "source": [
    "Wh=np.random.rand(4,3)\n",
    "wout=np.random.rand(3,1)\n",
    "bh=np.random.rand(1,3)\n",
    "bout=np.random.rand(1,1)"
   ]
  },
  {
   "cell_type": "code",
   "execution_count": 13,
   "metadata": {},
   "outputs": [
    {
     "name": "stdout",
     "output_type": "stream",
     "text": [
      "[[0.71817708 0.24764411 0.36550635]\n",
      " [0.94962446 0.57473399 0.47573953]\n",
      " [0.19689343 0.34183847 0.24020238]\n",
      " [0.53210625 0.02133086 0.90207725]] [[0.47785142]\n",
      " [0.99272226]\n",
      " [0.37348051]] [[0.34308152 0.60987843 0.54084847]] [[0.89959675]]\n"
     ]
    }
   ],
   "source": [
    "print(Wh, wout, bh, bout)"
   ]
  },
  {
   "cell_type": "code",
   "execution_count": 18,
   "metadata": {},
   "outputs": [],
   "source": [
    "#calculate hidden layer input"
   ]
  },
  {
   "cell_type": "code",
   "execution_count": 14,
   "metadata": {},
   "outputs": [
    {
     "name": "stdout",
     "output_type": "stream",
     "text": [
      "[[1.25815203 1.199361   1.14655719]\n",
      " [1.79025828 1.22069186 2.04863444]\n",
      " [1.82481223 1.20594328 1.91866525]]\n"
     ]
    }
   ],
   "source": [
    "hidden_layer_input = np.dot(X,Wh)+bh\n",
    "print(hidden_layer_input)"
   ]
  },
  {
   "cell_type": "code",
   "execution_count": 21,
   "metadata": {},
   "outputs": [],
   "source": [
    "#performing nonlinear activation on hidden linear input(using sigmoid function)"
   ]
  },
  {
   "cell_type": "code",
   "execution_count": 15,
   "metadata": {},
   "outputs": [
    {
     "name": "stdout",
     "output_type": "stream",
     "text": [
      "[[0.77870783 0.76841109 0.75888151]\n",
      " [0.85695894 0.77218528 0.88580956]\n",
      " [0.86114256 0.76958037 0.87198952]]\n"
     ]
    }
   ],
   "source": [
    "hidden_layer_activation=np.vectorize(sigmoid)(hidden_layer_input)\n",
    "print(hidden_layer_activation)"
   ]
  },
  {
   "cell_type": "code",
   "execution_count": 23,
   "metadata": {},
   "outputs": [],
   "source": [
    "#perform linear and nonlinear transformation of hidden layer at output layer"
   ]
  },
  {
   "cell_type": "code",
   "execution_count": 16,
   "metadata": {},
   "outputs": [
    {
     "name": "stdout",
     "output_type": "stream",
     "text": [
      "[[2.31794964]\n",
      " [2.40649392]\n",
      " [2.4007456 ]]\n",
      "[[0.91035275]\n",
      " [0.91732116]\n",
      " [0.91688414]]\n"
     ]
    }
   ],
   "source": [
    "output_layer_input = np.dot(hidden_layer_activation,wout)+bout\n",
    "output = np.vectorize(sigmoid)(output_layer_input)\n",
    "print(output_layer_input)\n",
    "print(output)"
   ]
  },
  {
   "cell_type": "code",
   "execution_count": 25,
   "metadata": {},
   "outputs": [],
   "source": [
    "#calculate the gradient of error at output layer\n"
   ]
  },
  {
   "cell_type": "code",
   "execution_count": 17,
   "metadata": {},
   "outputs": [
    {
     "name": "stdout",
     "output_type": "stream",
     "text": [
      "[[ 0.08964725]\n",
      " [ 0.08267884]\n",
      " [-0.91688414]]\n"
     ]
    }
   ],
   "source": [
    "Error = Y-output\n",
    "print(Error)"
   ]
  },
  {
   "cell_type": "code",
   "execution_count": 27,
   "metadata": {},
   "outputs": [],
   "source": [
    "#compute slope at output and hidden layer"
   ]
  },
  {
   "cell_type": "code",
   "execution_count": 18,
   "metadata": {},
   "outputs": [
    {
     "name": "stdout",
     "output_type": "stream",
     "text": [
      "[[0.20460018]\n",
      " [0.20399148]\n",
      " [0.20402972]]\n",
      "[[0.21562626 0.21644616 0.21719886]\n",
      " [0.20918594 0.21614642 0.20672574]\n",
      " [0.20883187 0.21635339 0.20790958]]\n"
     ]
    }
   ],
   "source": [
    "slope_output_layer = np.vectorize(derivative_sigmoid)(output)\n",
    "slope_hidden_layer= np.vectorize(derivative_sigmoid)(hidden_layer_activation)\n",
    "print(slope_output_layer)\n",
    "print(slope_hidden_layer)"
   ]
  },
  {
   "cell_type": "code",
   "execution_count": 19,
   "metadata": {},
   "outputs": [],
   "source": [
    "#compute delta at output layer"
   ]
  },
  {
   "cell_type": "code",
   "execution_count": 20,
   "metadata": {},
   "outputs": [
    {
     "name": "stdout",
     "output_type": "stream",
     "text": [
      "[[ 0.00183418]\n",
      " [ 0.00168658]\n",
      " [-0.01870716]]\n"
     ]
    }
   ],
   "source": [
    "lr=0.1\n",
    "d_output = Error*slope_output_layer*lr\n",
    "print(d_output)"
   ]
  },
  {
   "cell_type": "code",
   "execution_count": 31,
   "metadata": {},
   "outputs": [],
   "source": [
    "#calculate Error at hidden layer"
   ]
  },
  {
   "cell_type": "code",
   "execution_count": 21,
   "metadata": {},
   "outputs": [
    {
     "name": "stdout",
     "output_type": "stream",
     "text": [
      "[[ 0.00087647  0.00182084  0.00068503]\n",
      " [ 0.00080593  0.0016743   0.0006299 ]\n",
      " [-0.00893924 -0.01857102 -0.00698676]]\n"
     ]
    }
   ],
   "source": [
    "wout_transpose = np.transpose(wout)\n",
    "Error_hidden_layer=np.dot(d_output, wout_transpose)\n",
    "print(Error_hidden_layer)"
   ]
  },
  {
   "cell_type": "code",
   "execution_count": 33,
   "metadata": {},
   "outputs": [],
   "source": [
    "#compute delta hidden layer"
   ]
  },
  {
   "cell_type": "code",
   "execution_count": 22,
   "metadata": {},
   "outputs": [
    {
     "name": "stdout",
     "output_type": "stream",
     "text": [
      "[[ 0.00018899  0.00039411  0.00014879]\n",
      " [ 0.00016859  0.00036189  0.00013022]\n",
      " [-0.0018668  -0.0040179  -0.00145261]]\n"
     ]
    }
   ],
   "source": [
    "d_hidden_layer = Error_hidden_layer * slope_hidden_layer\n",
    "print(d_hidden_layer)"
   ]
  },
  {
   "cell_type": "code",
   "execution_count": 35,
   "metadata": {},
   "outputs": [],
   "source": [
    "#update weight at both output and hidden layer"
   ]
  },
  {
   "cell_type": "code",
   "execution_count": 23,
   "metadata": {},
   "outputs": [
    {
     "name": "stdout",
     "output_type": "stream",
     "text": [
      "[[0.47652782]\n",
      " [0.99155377]\n",
      " [0.37213786]]\n",
      "[[0.71821284 0.24771971 0.36553425]\n",
      " [0.94943778 0.5743322  0.47559427]\n",
      " [0.19692919 0.34191407 0.24023028]\n",
      " [0.53193643 0.02096526 0.90194501]]\n"
     ]
    }
   ],
   "source": [
    "hidden_layer_activation_transpose=np.transpose(hidden_layer_activation)\n",
    "wout=wout+np.dot(hidden_layer_activation_transpose, d_output) *lr \n",
    "print(wout)\n",
    "X_transpose = np.transpose(X)\n",
    "Wh = Wh + np.dot(X_transpose, d_hidden_layer) *lr \n",
    "print(Wh)"
   ]
  },
  {
   "cell_type": "code",
   "execution_count": 37,
   "metadata": {},
   "outputs": [],
   "source": [
    "#update biases at both output and hidden layer"
   ]
  },
  {
   "cell_type": "code",
   "execution_count": 24,
   "metadata": {},
   "outputs": [
    {
     "name": "stdout",
     "output_type": "stream",
     "text": [
      "[[0.3429306  0.60955224 0.54073111]] [[0.89807811]]\n"
     ]
    }
   ],
   "source": [
    "bh = bh + np.sum(d_hidden_layer, axis=0)*lr\n",
    "bout=bout+ np.sum(d_output, axis=0)*lr\n",
    "print(bh,bout)"
   ]
  },
  {
   "cell_type": "code",
   "execution_count": null,
   "metadata": {},
   "outputs": [],
   "source": []
  }
 ],
 "metadata": {
  "kernelspec": {
   "display_name": "Python 3",
   "language": "python",
   "name": "python3"
  },
  "language_info": {
   "codemirror_mode": {
    "name": "ipython",
    "version": 3
   },
   "file_extension": ".py",
   "mimetype": "text/x-python",
   "name": "python",
   "nbconvert_exporter": "python",
   "pygments_lexer": "ipython3",
   "version": "3.6.4"
  }
 },
 "nbformat": 4,
 "nbformat_minor": 2
}
