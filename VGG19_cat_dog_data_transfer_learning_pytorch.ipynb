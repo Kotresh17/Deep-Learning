{
  "nbformat": 4,
  "nbformat_minor": 0,
  "metadata": {
    "colab": {
      "name": "VGG19_cat_dog_data_transfer_learning_pytorch.ipynb",
      "version": "0.3.2",
      "provenance": [],
      "collapsed_sections": []
    },
    "kernelspec": {
      "name": "python3",
      "display_name": "Python 3"
    },
    "accelerator": "GPU"
  },
  "cells": [
    {
      "metadata": {
        "id": "WBYYJcZ7qbyA",
        "colab_type": "text"
      },
      "cell_type": "markdown",
      "source": [
        "<h2> Classifying cat and dog image data using pretrained VGG19. </h2>\n"
      ]
    },
    {
      "metadata": {
        "id": "dLSdQhXewz_b",
        "colab_type": "text"
      },
      "cell_type": "markdown",
      "source": [
        "<h2></h2> <img src =\" https://cdn-images-1.medium.com/max/1600/1*cufAO77aeSWdShs3ba5ndg.jpeg\"> \n"
      ]
    },
    {
      "metadata": {
        "id": "5xeraPhpLT6i",
        "colab_type": "code",
        "colab": {}
      },
      "cell_type": "code",
      "source": [
        "!pip3 install http://download.pytorch.org/whl/cu80/torch-0.3.0.post4-cp36-cp36m-linux_x86_64.whl \n",
        "!pip3 install torchvision"
      ],
      "execution_count": 0,
      "outputs": []
    },
    {
      "metadata": {
        "id": "6EO6RDNZLmr1",
        "colab_type": "code",
        "colab": {}
      },
      "cell_type": "code",
      "source": [
        "#importing the necessary libraries\n",
        "import torch\n",
        "import torchvision\n",
        "import cv2\n",
        "from torchvision import models\n",
        "import torch.nn as nn\n",
        "from torch.optim import lr_scheduler\n",
        "from torch.autograd import Variable\n",
        "import numpy as np\n",
        "import copy\n",
        "import pandas as pd\n",
        "from torch.utils.data import Dataset, DataLoader\n",
        "import matplotlib.pyplot as plt\n",
        "import PIL\n",
        "import os,sys,time\n",
        "%matplotlib inline"
      ],
      "execution_count": 0,
      "outputs": []
    },
    {
      "metadata": {
        "id": "lTRy1RnKwt21",
        "colab_type": "code",
        "colab": {
          "base_uri": "https://localhost:8080/",
          "height": 34
        },
        "outputId": "09400314-6ec4-4bcd-e4a0-64bb3d08ed59"
      },
      "cell_type": "code",
      "source": [
        "#interactive mode\n",
        "\n",
        "plt.ion()  \n",
        "\n",
        "use_gpu = torch.cuda.is_available()\n",
        "if use_gpu:\n",
        "    print(\"Using CUDA\")"
      ],
      "execution_count": 0,
      "outputs": [
        {
          "output_type": "stream",
          "text": [
            "Using CUDA\n"
          ],
          "name": "stdout"
        }
      ]
    },
    {
      "metadata": {
        "id": "vW38ESKJMCJG",
        "colab_type": "code",
        "colab": {
          "resources": {
            "http://localhost:8080/nbextensions/google.colab/files.js": {
              "data": "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",
              "ok": true,
              "headers": [
                [
                  "content-type",
                  "application/javascript"
                ]
              ],
              "status": 200,
              "status_text": ""
            }
          },
          "base_uri": "https://localhost:8080/",
          "height": 72
        },
        "outputId": "9eb11075-7c7c-4fe9-d894-a57776d03955"
      },
      "cell_type": "code",
      "source": [
        "#uploading the files from local disk\n",
        "\n",
        "from google.colab import files\n",
        "files = files.upload()"
      ],
      "execution_count": 0,
      "outputs": [
        {
          "output_type": "display_data",
          "data": {
            "text/html": [
              "\n",
              "     <input type=\"file\" id=\"files-0c0263ad-7739-4c5f-971a-5bc84bb8a159\" name=\"files[]\" multiple disabled />\n",
              "     <output id=\"result-0c0263ad-7739-4c5f-971a-5bc84bb8a159\">\n",
              "      Upload widget is only available when the cell has been executed in the\n",
              "      current browser session. Please rerun this cell to enable.\n",
              "      </output>\n",
              "      <script src=\"/nbextensions/google.colab/files.js\"></script> "
            ],
            "text/plain": [
              "<IPython.core.display.HTML object>"
            ]
          },
          "metadata": {
            "tags": []
          }
        },
        {
          "output_type": "stream",
          "text": [
            "Saving valid.zip to valid.zip\n"
          ],
          "name": "stdout"
        }
      ]
    },
    {
      "metadata": {
        "id": "oJQ7Ji8bMTzY",
        "colab_type": "code",
        "colab": {}
      },
      "cell_type": "code",
      "source": [
        "#extracting the zip file\n",
        "\n",
        "import io\n",
        "import zipfile\n",
        "zip_ref = zipfile.ZipFile(\"train.zip\",\"r\")\n",
        "zip_ref.extractall()\n",
        "zip_ref.close()\n"
      ],
      "execution_count": 0,
      "outputs": []
    },
    {
      "metadata": {
        "id": "7hPSJxTsOkIT",
        "colab_type": "code",
        "colab": {}
      },
      "cell_type": "code",
      "source": [
        "zip_ref = zipfile.ZipFile(\"valid.zip\",\"r\")\n",
        "zip_ref.extractall()\n",
        "zip_ref.close()"
      ],
      "execution_count": 0,
      "outputs": []
    },
    {
      "metadata": {
        "id": "AnupNJCIqXxX",
        "colab_type": "code",
        "colab": {
          "base_uri": "https://localhost:8080/",
          "height": 34
        },
        "outputId": "1bf239b1-4cab-461a-c675-bbe9683e5968"
      },
      "cell_type": "code",
      "source": [
        "!ls"
      ],
      "execution_count": 0,
      "outputs": [
        {
          "output_type": "stream",
          "text": [
            "sample_data  train  train.zip  valid  valid.zip\n"
          ],
          "name": "stdout"
        }
      ]
    },
    {
      "metadata": {
        "id": "ora_gMF5qczh",
        "colab_type": "code",
        "colab": {
          "base_uri": "https://localhost:8080/",
          "height": 34
        },
        "outputId": "3e303e45-9c94-4239-f487-63a29cb09cdc"
      },
      "cell_type": "code",
      "source": [
        "!pwd"
      ],
      "execution_count": 0,
      "outputs": [
        {
          "output_type": "stream",
          "text": [
            "/content\n"
          ],
          "name": "stdout"
        }
      ]
    },
    {
      "metadata": {
        "id": "VsdgFl9CO8fL",
        "colab_type": "code",
        "colab": {}
      },
      "cell_type": "code",
      "source": [
        "# train images path \n",
        "train = \"/content/train\"\n",
        "#test images path\n",
        "test = \"/content/valid\""
      ],
      "execution_count": 0,
      "outputs": []
    },
    {
      "metadata": {
        "id": "P20Jzw-1PEzO",
        "colab_type": "code",
        "colab": {}
      },
      "cell_type": "code",
      "source": [
        "class Cat_Dog(Dataset):\n",
        "  def __init__(self, root_dir, transform=None):\n",
        "    self.root_dir = root_dir\n",
        "    self.files = os.listdir(root_dir)\n",
        "    self.img_lab={}\n",
        "    for f in self.files:\n",
        "      label = f.split('.')[0]\n",
        "      self.img_lab[f] = label\n",
        "    files = pd.Series(self.img_lab)\n",
        "    self.labels,_ = files.factorize()\n",
        "    self.transform = transform\n",
        "  def __len__(self):\n",
        "    return len(self.files)\n",
        "  def __getitem__(self, idx):\n",
        "    img = self.files[idx]\n",
        "    label = self.labels[idx]\n",
        "    image = PIL.Image.open(os.path.join(self.root_dir, img))\n",
        "    if self.transform:\n",
        "      image=self.transform(image)\n",
        "    return image, label"
      ],
      "execution_count": 0,
      "outputs": []
    },
    {
      "metadata": {
        "id": "ng0wwR5vQPUO",
        "colab_type": "code",
        "colab": {}
      },
      "cell_type": "code",
      "source": [
        "train_data = Cat_Dog(train, transform=torchvision.transforms.Compose([torchvision.transforms.Resize((224,224)), torchvision.transforms.ToTensor()]))"
      ],
      "execution_count": 0,
      "outputs": []
    },
    {
      "metadata": {
        "id": "cB8y8Yyuu3Nh",
        "colab_type": "code",
        "colab": {}
      },
      "cell_type": "code",
      "source": [
        "test_data = Cat_Dog(test, transform=torchvision.transforms.Compose([torchvision.transforms.Resize((224,224)), torchvision.transforms.ToTensor()]))"
      ],
      "execution_count": 0,
      "outputs": []
    },
    {
      "metadata": {
        "id": "aukRZ6OiQoG2",
        "colab_type": "code",
        "colab": {}
      },
      "cell_type": "code",
      "source": [
        "train_loader = DataLoader(train_data, batch_size=1, shuffle=True)\n",
        "test_loader = DataLoader(test_data, batch_size=1, shuffle=True)"
      ],
      "execution_count": 0,
      "outputs": []
    },
    {
      "metadata": {
        "id": "psT2k654QzVK",
        "colab_type": "code",
        "colab": {}
      },
      "cell_type": "code",
      "source": [
        "img, label = next(iter(train_loader))"
      ],
      "execution_count": 0,
      "outputs": []
    },
    {
      "metadata": {
        "id": "BKUhvJ-kRASH",
        "colab_type": "code",
        "colab": {
          "base_uri": "https://localhost:8080/",
          "height": 337
        },
        "outputId": "7be0532c-dd95-4396-ac03-337aab11eda7"
      },
      "cell_type": "code",
      "source": [
        "plt.imshow(img[0].permute(1,2,0))\n",
        "print(label)\n",
        "no_classes = 2"
      ],
      "execution_count": 0,
      "outputs": [
        {
          "output_type": "stream",
          "text": [
            "\n",
            " 0\n",
            "[torch.LongTensor of size 1]\n",
            "\n"
          ],
          "name": "stdout"
        },
        {
          "output_type": "display_data",
          "data": {
            "image/png": "[encoded data removed]",
            "text/plain": [
              "<matplotlib.figure.Figure at 0x7f85226305f8>"
            ]
          },
          "metadata": {
            "tags": []
          }
        }
      ]
    },
    {
      "metadata": {
        "id": "l9zKY84ARGYQ",
        "colab_type": "code",
        "colab": {}
      },
      "cell_type": "code",
      "source": [
        "#loading the pretrained Vgg19 with batch normalization model from the torchvision library\n",
        "vgg19 = models.vgg19_bn(pretrained=True)\n"
      ],
      "execution_count": 0,
      "outputs": []
    },
    {
      "metadata": {
        "id": "IPU0OW-nwP-0",
        "colab_type": "code",
        "colab": {
          "base_uri": "https://localhost:8080/",
          "height": 1139
        },
        "outputId": "a88b74b9-196d-48fc-f648-85087245baa1"
      },
      "cell_type": "code",
      "source": [
        "print(vgg19)"
      ],
      "execution_count": 0,
      "outputs": [
        {
          "output_type": "stream",
          "text": [
            "VGG(\n",
            "  (features): Sequential(\n",
            "    (0): Conv2d (3, 64, kernel_size=(3, 3), stride=(1, 1), padding=(1, 1))\n",
            "    (1): BatchNorm2d(64, eps=1e-05, momentum=0.1, affine=True)\n",
            "    (2): ReLU(inplace)\n",
            "    (3): Conv2d (64, 64, kernel_size=(3, 3), stride=(1, 1), padding=(1, 1))\n",
            "    (4): BatchNorm2d(64, eps=1e-05, momentum=0.1, affine=True)\n",
            "    (5): ReLU(inplace)\n",
            "    (6): MaxPool2d(kernel_size=(2, 2), stride=(2, 2), dilation=(1, 1))\n",
            "    (7): Conv2d (64, 128, kernel_size=(3, 3), stride=(1, 1), padding=(1, 1))\n",
            "    (8): BatchNorm2d(128, eps=1e-05, momentum=0.1, affine=True)\n",
            "    (9): ReLU(inplace)\n",
            "    (10): Conv2d (128, 128, kernel_size=(3, 3), stride=(1, 1), padding=(1, 1))\n",
            "    (11): BatchNorm2d(128, eps=1e-05, momentum=0.1, affine=True)\n",
            "    (12): ReLU(inplace)\n",
            "    (13): MaxPool2d(kernel_size=(2, 2), stride=(2, 2), dilation=(1, 1))\n",
            "    (14): Conv2d (128, 256, kernel_size=(3, 3), stride=(1, 1), padding=(1, 1))\n",
            "    (15): BatchNorm2d(256, eps=1e-05, momentum=0.1, affine=True)\n",
            "    (16): ReLU(inplace)\n",
            "    (17): Conv2d (256, 256, kernel_size=(3, 3), stride=(1, 1), padding=(1, 1))\n",
            "    (18): BatchNorm2d(256, eps=1e-05, momentum=0.1, affine=True)\n",
            "    (19): ReLU(inplace)\n",
            "    (20): Conv2d (256, 256, kernel_size=(3, 3), stride=(1, 1), padding=(1, 1))\n",
            "    (21): BatchNorm2d(256, eps=1e-05, momentum=0.1, affine=True)\n",
            "    (22): ReLU(inplace)\n",
            "    (23): Conv2d (256, 256, kernel_size=(3, 3), stride=(1, 1), padding=(1, 1))\n",
            "    (24): BatchNorm2d(256, eps=1e-05, momentum=0.1, affine=True)\n",
            "    (25): ReLU(inplace)\n",
            "    (26): MaxPool2d(kernel_size=(2, 2), stride=(2, 2), dilation=(1, 1))\n",
            "    (27): Conv2d (256, 512, kernel_size=(3, 3), stride=(1, 1), padding=(1, 1))\n",
            "    (28): BatchNorm2d(512, eps=1e-05, momentum=0.1, affine=True)\n",
            "    (29): ReLU(inplace)\n",
            "    (30): Conv2d (512, 512, kernel_size=(3, 3), stride=(1, 1), padding=(1, 1))\n",
            "    (31): BatchNorm2d(512, eps=1e-05, momentum=0.1, affine=True)\n",
            "    (32): ReLU(inplace)\n",
            "    (33): Conv2d (512, 512, kernel_size=(3, 3), stride=(1, 1), padding=(1, 1))\n",
            "    (34): BatchNorm2d(512, eps=1e-05, momentum=0.1, affine=True)\n",
            "    (35): ReLU(inplace)\n",
            "    (36): Conv2d (512, 512, kernel_size=(3, 3), stride=(1, 1), padding=(1, 1))\n",
            "    (37): BatchNorm2d(512, eps=1e-05, momentum=0.1, affine=True)\n",
            "    (38): ReLU(inplace)\n",
            "    (39): MaxPool2d(kernel_size=(2, 2), stride=(2, 2), dilation=(1, 1))\n",
            "    (40): Conv2d (512, 512, kernel_size=(3, 3), stride=(1, 1), padding=(1, 1))\n",
            "    (41): BatchNorm2d(512, eps=1e-05, momentum=0.1, affine=True)\n",
            "    (42): ReLU(inplace)\n",
            "    (43): Conv2d (512, 512, kernel_size=(3, 3), stride=(1, 1), padding=(1, 1))\n",
            "    (44): BatchNorm2d(512, eps=1e-05, momentum=0.1, affine=True)\n",
            "    (45): ReLU(inplace)\n",
            "    (46): Conv2d (512, 512, kernel_size=(3, 3), stride=(1, 1), padding=(1, 1))\n",
            "    (47): BatchNorm2d(512, eps=1e-05, momentum=0.1, affine=True)\n",
            "    (48): ReLU(inplace)\n",
            "    (49): Conv2d (512, 512, kernel_size=(3, 3), stride=(1, 1), padding=(1, 1))\n",
            "    (50): BatchNorm2d(512, eps=1e-05, momentum=0.1, affine=True)\n",
            "    (51): ReLU(inplace)\n",
            "    (52): MaxPool2d(kernel_size=(2, 2), stride=(2, 2), dilation=(1, 1))\n",
            "  )\n",
            "  (classifier): Sequential(\n",
            "    (0): Linear(in_features=25088, out_features=4096)\n",
            "    (1): ReLU(inplace)\n",
            "    (2): Dropout(p=0.5)\n",
            "    (3): Linear(in_features=4096, out_features=4096)\n",
            "    (4): ReLU(inplace)\n",
            "    (5): Dropout(p=0.5)\n",
            "    (6): Linear(in_features=4096, out_features=1000)\n",
            "  )\n",
            ")\n"
          ],
          "name": "stdout"
        }
      ]
    },
    {
      "metadata": {
        "id": "nRVLr32Jxrrx",
        "colab_type": "code",
        "colab": {}
      },
      "cell_type": "code",
      "source": [
        "# Freeze training for all layers\n",
        "for param in vgg19.features.parameters():\n",
        "    param.require_grad = False"
      ],
      "execution_count": 0,
      "outputs": []
    },
    {
      "metadata": {
        "id": "05IsEEYXxyLT",
        "colab_type": "code",
        "colab": {
          "base_uri": "https://localhost:8080/",
          "height": 1139
        },
        "outputId": "0143b51c-d5cf-4ddc-8cb8-cd2292b82fd9"
      },
      "cell_type": "code",
      "source": [
        "# Newly created modules have require_grad=True by default\n",
        "num_features = vgg19.classifier[6].in_features\n",
        "features = list(vgg19.classifier.children())[:-2] # Remove last two layer\n",
        "features.extend([nn.Linear(num_features, 4096)])\n",
        "features.extend([nn.Linear(4096, no_classes)]) # Add our layer with 2 outputs\n",
        "vgg19.classifier = nn.Sequential(*features) # Replace the model classifier\n",
        "print(vgg19)"
      ],
      "execution_count": 0,
      "outputs": [
        {
          "output_type": "stream",
          "text": [
            "VGG(\n",
            "  (features): Sequential(\n",
            "    (0): Conv2d (3, 64, kernel_size=(3, 3), stride=(1, 1), padding=(1, 1))\n",
            "    (1): BatchNorm2d(64, eps=1e-05, momentum=0.1, affine=True)\n",
            "    (2): ReLU(inplace)\n",
            "    (3): Conv2d (64, 64, kernel_size=(3, 3), stride=(1, 1), padding=(1, 1))\n",
            "    (4): BatchNorm2d(64, eps=1e-05, momentum=0.1, affine=True)\n",
            "    (5): ReLU(inplace)\n",
            "    (6): MaxPool2d(kernel_size=(2, 2), stride=(2, 2), dilation=(1, 1))\n",
            "    (7): Conv2d (64, 128, kernel_size=(3, 3), stride=(1, 1), padding=(1, 1))\n",
            "    (8): BatchNorm2d(128, eps=1e-05, momentum=0.1, affine=True)\n",
            "    (9): ReLU(inplace)\n",
            "    (10): Conv2d (128, 128, kernel_size=(3, 3), stride=(1, 1), padding=(1, 1))\n",
            "    (11): BatchNorm2d(128, eps=1e-05, momentum=0.1, affine=True)\n",
            "    (12): ReLU(inplace)\n",
            "    (13): MaxPool2d(kernel_size=(2, 2), stride=(2, 2), dilation=(1, 1))\n",
            "    (14): Conv2d (128, 256, kernel_size=(3, 3), stride=(1, 1), padding=(1, 1))\n",
            "    (15): BatchNorm2d(256, eps=1e-05, momentum=0.1, affine=True)\n",
            "    (16): ReLU(inplace)\n",
            "    (17): Conv2d (256, 256, kernel_size=(3, 3), stride=(1, 1), padding=(1, 1))\n",
            "    (18): BatchNorm2d(256, eps=1e-05, momentum=0.1, affine=True)\n",
            "    (19): ReLU(inplace)\n",
            "    (20): Conv2d (256, 256, kernel_size=(3, 3), stride=(1, 1), padding=(1, 1))\n",
            "    (21): BatchNorm2d(256, eps=1e-05, momentum=0.1, affine=True)\n",
            "    (22): ReLU(inplace)\n",
            "    (23): Conv2d (256, 256, kernel_size=(3, 3), stride=(1, 1), padding=(1, 1))\n",
            "    (24): BatchNorm2d(256, eps=1e-05, momentum=0.1, affine=True)\n",
            "    (25): ReLU(inplace)\n",
            "    (26): MaxPool2d(kernel_size=(2, 2), stride=(2, 2), dilation=(1, 1))\n",
            "    (27): Conv2d (256, 512, kernel_size=(3, 3), stride=(1, 1), padding=(1, 1))\n",
            "    (28): BatchNorm2d(512, eps=1e-05, momentum=0.1, affine=True)\n",
            "    (29): ReLU(inplace)\n",
            "    (30): Conv2d (512, 512, kernel_size=(3, 3), stride=(1, 1), padding=(1, 1))\n",
            "    (31): BatchNorm2d(512, eps=1e-05, momentum=0.1, affine=True)\n",
            "    (32): ReLU(inplace)\n",
            "    (33): Conv2d (512, 512, kernel_size=(3, 3), stride=(1, 1), padding=(1, 1))\n",
            "    (34): BatchNorm2d(512, eps=1e-05, momentum=0.1, affine=True)\n",
            "    (35): ReLU(inplace)\n",
            "    (36): Conv2d (512, 512, kernel_size=(3, 3), stride=(1, 1), padding=(1, 1))\n",
            "    (37): BatchNorm2d(512, eps=1e-05, momentum=0.1, affine=True)\n",
            "    (38): ReLU(inplace)\n",
            "    (39): MaxPool2d(kernel_size=(2, 2), stride=(2, 2), dilation=(1, 1))\n",
            "    (40): Conv2d (512, 512, kernel_size=(3, 3), stride=(1, 1), padding=(1, 1))\n",
            "    (41): BatchNorm2d(512, eps=1e-05, momentum=0.1, affine=True)\n",
            "    (42): ReLU(inplace)\n",
            "    (43): Conv2d (512, 512, kernel_size=(3, 3), stride=(1, 1), padding=(1, 1))\n",
            "    (44): BatchNorm2d(512, eps=1e-05, momentum=0.1, affine=True)\n",
            "    (45): ReLU(inplace)\n",
            "    (46): Conv2d (512, 512, kernel_size=(3, 3), stride=(1, 1), padding=(1, 1))\n",
            "    (47): BatchNorm2d(512, eps=1e-05, momentum=0.1, affine=True)\n",
            "    (48): ReLU(inplace)\n",
            "    (49): Conv2d (512, 512, kernel_size=(3, 3), stride=(1, 1), padding=(1, 1))\n",
            "    (50): BatchNorm2d(512, eps=1e-05, momentum=0.1, affine=True)\n",
            "    (51): ReLU(inplace)\n",
            "    (52): MaxPool2d(kernel_size=(2, 2), stride=(2, 2), dilation=(1, 1))\n",
            "  )\n",
            "  (classifier): Sequential(\n",
            "    (0): Linear(in_features=25088, out_features=4096)\n",
            "    (1): ReLU(inplace)\n",
            "    (2): Dropout(p=0.5)\n",
            "    (3): Linear(in_features=4096, out_features=4096)\n",
            "    (4): ReLU(inplace)\n",
            "    (5): Linear(in_features=4096, out_features=4096)\n",
            "    (6): Linear(in_features=4096, out_features=2)\n",
            "  )\n",
            ")\n"
          ],
          "name": "stdout"
        }
      ]
    },
    {
      "metadata": {
        "id": "YXS23FPhxvSf",
        "colab_type": "code",
        "colab": {}
      },
      "cell_type": "code",
      "source": [
        "if use_gpu:\n",
        "    vgg19.cuda() #.cuda() will move everything to the GPU side\n",
        "    \n",
        "criterion = nn.CrossEntropyLoss()\n",
        "\n",
        "optimizer_ft = torch.optim.SGD(vgg19.parameters(), lr=0.001, momentum=0.9)"
      ],
      "execution_count": 0,
      "outputs": []
    },
    {
      "metadata": {
        "id": "7y0N2V9JwbTQ",
        "colab_type": "code",
        "colab": {}
      },
      "cell_type": "code",
      "source": [
        "def eval_model(vgg, criterion):\n",
        "    since = time.time()\n",
        "    avg_loss = 0\n",
        "    avg_acc = 0\n",
        "    loss_test = 0\n",
        "    acc_test = 0\n",
        "    \n",
        "    test_batches = len(test_loader)\n",
        "    print(\"Evaluating model\")\n",
        "    print('-' * 10)\n",
        "    \n",
        "    for i, data in enumerate(test_loader):\n",
        "        if i % 100 == 0:\n",
        "            print(\"\\rTest batch {}/{}\".format(i, test_loader), end='', flush=True)\n",
        "\n",
        "        vgg.train(False)\n",
        "        vgg.eval()\n",
        "        inputs, labels = data\n",
        "\n",
        "        if use_gpu:\n",
        "            inputs, labels = Variable(inputs.cuda(), volatile=True), Variable(labels.cuda(), volatile=True)\n",
        "        else:\n",
        "            inputs, labels = Variable(inputs, volatile=True), Variable(labels, volatile=True)\n",
        "\n",
        "        outputs = vgg(inputs)\n",
        "\n",
        "        _, preds = torch.max(outputs.data, 1)\n",
        "        loss = criterion(outputs, labels)\n",
        "\n",
        "        loss_test += loss.data[0]\n",
        "        acc_test += torch.sum(preds == labels.data)\n",
        "\n",
        "        del inputs, labels, outputs, preds\n",
        "        torch.cuda.empty_cache()\n",
        "        \n",
        "    avg_loss = loss_test / len(test_loader)\n",
        "    avg_acc = acc_test / len(test_loader)\n",
        "    \n",
        "    elapsed_time = time.time() - since\n",
        "    print()\n",
        "    print(\"Evaluation completed in {:.0f}m {:.0f}s\".format(elapsed_time // 60, elapsed_time % 60))\n",
        "    print(\"Avg loss (test): {:.4f}\".format(avg_loss))\n",
        "    print(\"Avg acc (test): {:.4f}\".format(avg_acc))\n",
        "    print('-' * 10)"
      ],
      "execution_count": 0,
      "outputs": []
    },
    {
      "metadata": {
        "id": "vz5ANWZ9xeID",
        "colab_type": "code",
        "colab": {
          "base_uri": "https://localhost:8080/",
          "height": 153
        },
        "outputId": "41700fff-826f-4ff9-ea8f-e55f3b50381e"
      },
      "cell_type": "code",
      "source": [
        "print(\"Test before training\")\n",
        "eval_model(vgg19, criterion)"
      ],
      "execution_count": 0,
      "outputs": [
        {
          "output_type": "stream",
          "text": [
            "Test before training\n",
            "Evaluating model\n",
            "----------\n",
            "\rTest batch 0/<torch.utils.data.dataloader.DataLoader object at 0x7f852265d7f0>\n",
            "Evaluation completed in 0m 1s\n",
            "Avg loss (test): 0.7355\n",
            "Avg acc (test): 0.3750\n",
            "----------\n"
          ],
          "name": "stdout"
        }
      ]
    },
    {
      "metadata": {
        "id": "U-5vXXj7z6D2",
        "colab_type": "code",
        "colab": {}
      },
      "cell_type": "code",
      "source": [
        "def train_model(vgg, criterion, optimizer, num_epochs=25):\n",
        "    since = time.time()\n",
        "    best_model_wts = copy.deepcopy(vgg.state_dict())\n",
        "    best_acc = 0.0\n",
        "    \n",
        "    avg_loss = 0\n",
        "    avg_acc = 0\n",
        "    avg_loss_val = 0\n",
        "    avg_acc_val = 0\n",
        "    \n",
        "    train_batches = len(train_loader)\n",
        "    val_batches = len(test_loader)\n",
        " \n",
        "    for epoch in range(num_epochs):\n",
        "        print(\"Epoch {}/{}\".format(epoch, num_epochs))\n",
        "        print('-' * 10)\n",
        "        \n",
        "        loss_train = 0\n",
        "        loss_val = 0\n",
        "        acc_train = 0\n",
        "        acc_val = 0\n",
        "        \n",
        "        vgg.train(True)\n",
        "        \n",
        "        for i, data in enumerate(train_loader):\n",
        "            if i % 100 == 0:\n",
        "                print(\"\\rTraining batch {}/{}\".format(i, train_batches / 2), end='', flush=True)\n",
        "                \n",
        "            # Use half training dataset\n",
        "            if i >= train_batches / 2:\n",
        "                break\n",
        "                \n",
        "            inputs, labels = data\n",
        "            \n",
        "            if use_gpu:\n",
        "                inputs, labels = Variable(inputs.cuda()), Variable(labels.cuda())\n",
        "            else:\n",
        "                inputs, labels = Variable(inputs), Variable(labels)\n",
        "            \n",
        "            optimizer.zero_grad()\n",
        "            \n",
        "            outputs = vgg(inputs)\n",
        "            \n",
        "            _, preds = torch.max(outputs.data, 1)\n",
        "            loss = criterion(outputs, labels)\n",
        "            \n",
        "            loss.backward()\n",
        "            optimizer.step()\n",
        "            \n",
        "            loss_train += loss.data[0]\n",
        "            acc_train += torch.sum(preds == labels.data)\n",
        "            \n",
        "            del inputs, labels, outputs, preds\n",
        "            torch.cuda.empty_cache()\n",
        "        \n",
        "        print()\n",
        "        # * 2 as we only used half of the dataset\n",
        "        avg_loss = loss_train * 2 / len(train_loader)\n",
        "        avg_acc = acc_train * 2 / len(train_loader)\n",
        "        \n",
        "        vgg.train(False)\n",
        "        vgg.eval()\n",
        "            \n",
        "        for i, data in enumerate(test_loader):\n",
        "            if i % 100 == 0:\n",
        "                print(\"\\rValidation batch {}/{}\".format(i, val_batches), end='', flush=True)\n",
        "                \n",
        "            inputs, labels = data\n",
        "            \n",
        "            if use_gpu:\n",
        "                inputs, labels = Variable(inputs.cuda(), volatile=True), Variable(labels.cuda(), volatile=True)\n",
        "            else:\n",
        "                inputs, labels = Variable(inputs, volatile=True), Variable(labels, volatile=True)\n",
        "            \n",
        "            optimizer.zero_grad()\n",
        "            \n",
        "            outputs = vgg(inputs)\n",
        "            \n",
        "            _, preds = torch.max(outputs.data, 1)\n",
        "            loss = criterion(outputs, labels)\n",
        "            \n",
        "            loss_val += loss.data[0]\n",
        "            acc_val += torch.sum(preds == labels.data)\n",
        "            \n",
        "            del inputs, labels, outputs, preds\n",
        "            torch.cuda.empty_cache()\n",
        "        \n",
        "        avg_loss_val = loss_val / len(test_loader)\n",
        "        avg_acc_val = acc_val / len(test_loader)\n",
        "        \n",
        "        print()\n",
        "        print(\"Epoch {} result: \".format(epoch))\n",
        "        print(\"Avg loss (train): {:.4f}\".format(avg_loss))\n",
        "        print(\"Avg acc (train): {:.4f}\".format(avg_acc))\n",
        "        print(\"Avg loss (val): {:.4f}\".format(avg_loss_val))\n",
        "        print(\"Avg acc (val): {:.4f}\".format(avg_acc_val))\n",
        "        print('-' * 10)\n",
        "        print()\n",
        "        \n",
        "        if avg_acc_val > best_acc:\n",
        "            best_acc = avg_acc_val\n",
        "            best_model_wts = copy.deepcopy(vgg.state_dict())\n",
        "        \n",
        "    elapsed_time = time.time() - since\n",
        "    print()\n",
        "    print(\"Training completed in {:.0f}m {:.0f}s\".format(elapsed_time // 60, elapsed_time % 60))\n",
        "    print(\"Best acc: {:.4f}\".format(best_acc))\n",
        "    \n",
        "    vgg.load_state_dict(best_model_wts)\n",
        "    return vgg"
      ],
      "execution_count": 0,
      "outputs": []
    },
    {
      "metadata": {
        "id": "zjXjpY1q1azN",
        "colab_type": "code",
        "colab": {
          "base_uri": "https://localhost:8080/",
          "height": 4743
        },
        "outputId": "b5ed91a2-159e-4fdb-d25e-e33c0804cf05"
      },
      "cell_type": "code",
      "source": [
        "vgg19 = train_model(vgg19, criterion, optimizer_ft, num_epochs=25)"
      ],
      "execution_count": 0,
      "outputs": [
        {
          "output_type": "stream",
          "text": [
            "Epoch 0/25\n",
            "----------\n",
            "Training batch 0/25.0\n",
            "Validation batch 0/24\n",
            "Epoch 0 result: \n",
            "Avg loss (train): 0.8032\n",
            "Avg acc (train): 0.5200\n",
            "Avg loss (val): 1.0686\n",
            "Avg acc (val): 0.4583\n",
            "----------\n",
            "\n",
            "Epoch 1/25\n",
            "----------\n",
            "Training batch 0/25.0\n",
            "Validation batch 0/24\n",
            "Epoch 1 result: \n",
            "Avg loss (train): 0.7458\n",
            "Avg acc (train): 0.5600\n",
            "Avg loss (val): 0.8831\n",
            "Avg acc (val): 0.3750\n",
            "----------\n",
            "\n",
            "Epoch 2/25\n",
            "----------\n",
            "Training batch 0/25.0\n",
            "Validation batch 0/24\n",
            "Epoch 2 result: \n",
            "Avg loss (train): 0.4444\n",
            "Avg acc (train): 0.8000\n",
            "Avg loss (val): 1.1756\n",
            "Avg acc (val): 0.3333\n",
            "----------\n",
            "\n",
            "Epoch 3/25\n",
            "----------\n",
            "Training batch 0/25.0\n",
            "Validation batch 0/24\n",
            "Epoch 3 result: \n",
            "Avg loss (train): 0.0788\n",
            "Avg acc (train): 1.0000\n",
            "Avg loss (val): 1.5004\n",
            "Avg acc (val): 0.4167\n",
            "----------\n",
            "\n",
            "Epoch 4/25\n",
            "----------\n",
            "Training batch 0/25.0\n",
            "Validation batch 0/24\n",
            "Epoch 4 result: \n",
            "Avg loss (train): 0.0981\n",
            "Avg acc (train): 0.9600\n",
            "Avg loss (val): 1.3905\n",
            "Avg acc (val): 0.2917\n",
            "----------\n",
            "\n",
            "Epoch 5/25\n",
            "----------\n",
            "Training batch 0/25.0\n",
            "Validation batch 0/24\n",
            "Epoch 5 result: \n",
            "Avg loss (train): 0.0722\n",
            "Avg acc (train): 0.9600\n",
            "Avg loss (val): 2.1660\n",
            "Avg acc (val): 0.5000\n",
            "----------\n",
            "\n",
            "Epoch 6/25\n",
            "----------\n",
            "Training batch 0/25.0\n",
            "Validation batch 0/24\n",
            "Epoch 6 result: \n",
            "Avg loss (train): 0.4628\n",
            "Avg acc (train): 0.8400\n",
            "Avg loss (val): 1.1449\n",
            "Avg acc (val): 0.5417\n",
            "----------\n",
            "\n",
            "Epoch 7/25\n",
            "----------\n",
            "Training batch 0/25.0\n",
            "Validation batch 0/24\n",
            "Epoch 7 result: \n",
            "Avg loss (train): 0.1340\n",
            "Avg acc (train): 1.0000\n",
            "Avg loss (val): 1.1883\n",
            "Avg acc (val): 0.5000\n",
            "----------\n",
            "\n",
            "Epoch 8/25\n",
            "----------\n",
            "Training batch 0/25.0\n",
            "Validation batch 0/24\n",
            "Epoch 8 result: \n",
            "Avg loss (train): 0.0967\n",
            "Avg acc (train): 0.9600\n",
            "Avg loss (val): 1.3082\n",
            "Avg acc (val): 0.2917\n",
            "----------\n",
            "\n",
            "Epoch 9/25\n",
            "----------\n",
            "Training batch 0/25.0\n",
            "Validation batch 0/24\n",
            "Epoch 9 result: \n",
            "Avg loss (train): 0.0410\n",
            "Avg acc (train): 1.0000\n",
            "Avg loss (val): 2.0470\n",
            "Avg acc (val): 0.4583\n",
            "----------\n",
            "\n",
            "Epoch 10/25\n",
            "----------\n",
            "Training batch 0/25.0\n",
            "Validation batch 0/24\n",
            "Epoch 10 result: \n",
            "Avg loss (train): 0.0095\n",
            "Avg acc (train): 1.0000\n",
            "Avg loss (val): 1.4826\n",
            "Avg acc (val): 0.4583\n",
            "----------\n",
            "\n",
            "Epoch 11/25\n",
            "----------\n",
            "Training batch 0/25.0\n",
            "Validation batch 0/24\n",
            "Epoch 11 result: \n",
            "Avg loss (train): 0.0014\n",
            "Avg acc (train): 1.0000\n",
            "Avg loss (val): 1.5716\n",
            "Avg acc (val): 0.5000\n",
            "----------\n",
            "\n",
            "Epoch 12/25\n",
            "----------\n",
            "Training batch 0/25.0\n",
            "Validation batch 0/24\n",
            "Epoch 12 result: \n",
            "Avg loss (train): 0.0613\n",
            "Avg acc (train): 0.9600\n",
            "Avg loss (val): 1.5473\n",
            "Avg acc (val): 0.3333\n",
            "----------\n",
            "\n",
            "Epoch 13/25\n",
            "----------\n",
            "Training batch 0/25.0\n",
            "Validation batch 0/24\n",
            "Epoch 13 result: \n",
            "Avg loss (train): 0.0152\n",
            "Avg acc (train): 1.0000\n",
            "Avg loss (val): 1.6118\n",
            "Avg acc (val): 0.5000\n",
            "----------\n",
            "\n",
            "Epoch 14/25\n",
            "----------\n",
            "Training batch 0/25.0\n",
            "Validation batch 0/24\n",
            "Epoch 14 result: \n",
            "Avg loss (train): 0.0010\n",
            "Avg acc (train): 1.0000\n",
            "Avg loss (val): 1.6645\n",
            "Avg acc (val): 0.5417\n",
            "----------\n",
            "\n",
            "Epoch 15/25\n",
            "----------\n",
            "Training batch 0/25.0\n",
            "Validation batch 0/24\n",
            "Epoch 15 result: \n",
            "Avg loss (train): 0.0006\n",
            "Avg acc (train): 1.0000\n",
            "Avg loss (val): 1.8820\n",
            "Avg acc (val): 0.5000\n",
            "----------\n",
            "\n",
            "Epoch 16/25\n",
            "----------\n",
            "Training batch 0/25.0\n",
            "Validation batch 0/24\n",
            "Epoch 16 result: \n",
            "Avg loss (train): 0.0003\n",
            "Avg acc (train): 1.0000\n",
            "Avg loss (val): 1.7455\n",
            "Avg acc (val): 0.5417\n",
            "----------\n",
            "\n",
            "Epoch 17/25\n",
            "----------\n",
            "Training batch 0/25.0\n",
            "Validation batch 0/24\n",
            "Epoch 17 result: \n",
            "Avg loss (train): 0.0004\n",
            "Avg acc (train): 1.0000\n",
            "Avg loss (val): 1.5991\n",
            "Avg acc (val): 0.5417\n",
            "----------\n",
            "\n",
            "Epoch 18/25\n",
            "----------\n",
            "Training batch 0/25.0\n",
            "Validation batch 0/24\n",
            "Epoch 18 result: \n",
            "Avg loss (train): 0.0004\n",
            "Avg acc (train): 1.0000\n",
            "Avg loss (val): 1.7971\n",
            "Avg acc (val): 0.5417\n",
            "----------\n",
            "\n",
            "Epoch 19/25\n",
            "----------\n",
            "Training batch 0/25.0\n",
            "Validation batch 0/24\n",
            "Epoch 19 result: \n",
            "Avg loss (train): 0.0002\n",
            "Avg acc (train): 1.0000\n",
            "Avg loss (val): 1.7090\n",
            "Avg acc (val): 0.5417\n",
            "----------\n",
            "\n",
            "Epoch 20/25\n",
            "----------\n",
            "Training batch 0/25.0\n",
            "Validation batch 0/24\n",
            "Epoch 20 result: \n",
            "Avg loss (train): 0.0003\n",
            "Avg acc (train): 1.0000\n",
            "Avg loss (val): 1.7006\n",
            "Avg acc (val): 0.5000\n",
            "----------\n",
            "\n",
            "Epoch 21/25\n",
            "----------\n",
            "Training batch 0/25.0\n",
            "Validation batch 0/24\n",
            "Epoch 21 result: \n",
            "Avg loss (train): 0.0007\n",
            "Avg acc (train): 1.0000\n",
            "Avg loss (val): 1.9248\n",
            "Avg acc (val): 0.5417\n",
            "----------\n",
            "\n",
            "Epoch 22/25\n",
            "----------\n",
            "Training batch 0/25.0\n",
            "Validation batch 0/24\n",
            "Epoch 22 result: \n",
            "Avg loss (train): 0.0002\n",
            "Avg acc (train): 1.0000\n",
            "Avg loss (val): 1.7941\n",
            "Avg acc (val): 0.5417\n",
            "----------\n",
            "\n",
            "Epoch 23/25\n",
            "----------\n",
            "Training batch 0/25.0\n",
            "Validation batch 0/24\n",
            "Epoch 23 result: \n",
            "Avg loss (train): 0.0003\n",
            "Avg acc (train): 1.0000\n",
            "Avg loss (val): 1.7560\n",
            "Avg acc (val): 0.5000\n",
            "----------\n",
            "\n",
            "Epoch 24/25\n",
            "----------\n",
            "Training batch 0/25.0\n",
            "Validation batch 0/24\n",
            "Epoch 24 result: \n",
            "Avg loss (train): 0.0002\n",
            "Avg acc (train): 1.0000\n",
            "Avg loss (val): 1.8176\n",
            "Avg acc (val): 0.5000\n",
            "----------\n",
            "\n",
            "\n",
            "Training completed in 2m 33s\n",
            "Best acc: 0.5417\n"
          ],
          "name": "stdout"
        }
      ]
    },
    {
      "metadata": {
        "id": "DBjp5HZr1fjM",
        "colab_type": "code",
        "colab": {}
      },
      "cell_type": "code",
      "source": [
        ""
      ],
      "execution_count": 0,
      "outputs": []
    },
    {
      "metadata": {
        "id": "DVjH26uf0tMo",
        "colab_type": "code",
        "colab": {}
      },
      "cell_type": "code",
      "source": [
        ""
      ],
      "execution_count": 0,
      "outputs": []
    }
  ]
}